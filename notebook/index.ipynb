{
 "cells": [
  {
   "cell_type": "markdown",
   "metadata": {
    "slideshow": {
     "slide_type": "slide"
    }
   },
   "source": [
    "# Welcome!"
   ]
  },
  {
   "cell_type": "markdown",
   "metadata": {},
   "source": [
    "👋🏻  I'm Pamela Fox (@pamelafox everywhere)\n",
    "\n",
    "\n",
    "Today we will..\n",
    "\n",
    "* Build a regression model using Python and scikit-learn\n",
    "* Deploy the model as an API using Python on Azure Functions\n",
    "\n",
    "\n",
    "\n",
    "## [tinyurl.com/regression-slides](https://tinyurl.com/regression-slides)\n",
    "## [tinyurl.com/regression-repo](https://tinyurl.com/regression-repo)"
   ]
  },
  {
   "cell_type": "markdown",
   "metadata": {
    "slideshow": {
     "slide_type": "slide"
    }
   },
   "source": [
    "# Exploring the data\n",
    "\n",
    "https://insights.stackoverflow.com/survey\n"
   ]
  },
  {
   "cell_type": "markdown",
   "metadata": {
    "slideshow": {
     "slide_type": "slide"
    }
   },
   "source": [
    "## Downloading the data\n"
   ]
  },
  {
   "cell_type": "code",
   "execution_count": null,
   "metadata": {
    "slideshow": {
     "slide_type": "-"
    }
   },
   "outputs": [],
   "source": [
    "import urllib.request\n",
    "import zipfile\n",
    "import pandas as pd\n",
    "\n",
    "url = 'https://info.stackoverflowsolutions.com/rs/719-EMH-566/images/stack-overflow-developer-survey-2022.zip'\n",
    "filehandle, _ = urllib.request.urlretrieve(url)\n",
    "zip_file_object = zipfile.ZipFile(filehandle, 'r')\n",
    "file = zip_file_object.open('survey_results_public.csv')\n",
    "\n",
    "survey_data = pd.read_csv(file)\n",
    "\n",
    "pd.set_option('display.max_columns', None)\n",
    "pd.set_option('display.float_format', lambda x: '%.5f' % x)\n",
    "\n",
    "survey_data.tail(3)"
   ]
  },
  {
   "cell_type": "markdown",
   "metadata": {
    "slideshow": {
     "slide_type": "slide"
    }
   },
   "source": [
    "## Cleaning the data"
   ]
  },
  {
   "cell_type": "code",
   "execution_count": null,
   "metadata": {},
   "outputs": [],
   "source": [
    "label = \"ConvertedCompYearly\"\n",
    "\n",
    "# Drop rows with no data\n",
    "survey_data = survey_data.dropna(subset = [label])\n",
    "\n",
    "# Drop rows with extreme outliers\n",
    "survey_data = survey_data.drop(survey_data[survey_data[label] > 400000].index)\n",
    "\n",
    "# Check if the numbers look reasonable\n",
    "survey_data[[label]].describe()"
   ]
  },
  {
   "cell_type": "markdown",
   "metadata": {
    "slideshow": {
     "slide_type": "slide"
    }
   },
   "source": [
    "## Cleaning more columns"
   ]
  },
  {
   "cell_type": "code",
   "execution_count": null,
   "metadata": {},
   "outputs": [],
   "source": [
    "numeric_features = ['YearsCode', 'YearsCodePro']\n",
    "\n",
    "for col_name in numeric_features:\n",
    "    survey_data[col_name] = pd.to_numeric(survey_data[col_name], errors='coerce')\n",
    "    survey_data = survey_data.dropna(subset = [col_name])  \n",
    "\n",
    "survey_data[numeric_features].describe()"
   ]
  },
  {
   "cell_type": "markdown",
   "metadata": {
    "slideshow": {
     "slide_type": "slide"
    }
   },
   "source": [
    "## Visualizing the label column"
   ]
  },
  {
   "cell_type": "code",
   "execution_count": null,
   "metadata": {},
   "outputs": [],
   "source": [
    "import matplotlib.pyplot as plt\n",
    "\n",
    "label_data = survey_data[label]\n",
    "fig = plt.figure(figsize=(6, 4))\n",
    "ax = fig.gca()\n",
    "ax.hist(label_data, bins=100)\n",
    "ax.set_ylabel('Frequency')\n",
    "ax.axvline(label_data.mean(), color='magenta', linestyle='dashed', linewidth=2)\n",
    "ax.axvline(label_data.median(), color='cyan', linestyle='dashed', linewidth=2)"
   ]
  },
  {
   "cell_type": "markdown",
   "metadata": {
    "slideshow": {
     "slide_type": "slide"
    }
   },
   "source": [
    "## Visualizing the feature columns"
   ]
  },
  {
   "cell_type": "code",
   "execution_count": null,
   "metadata": {},
   "outputs": [],
   "source": [
    "fig, axes = plt.subplots(nrows=1, ncols=len(numeric_features), figsize=(12, 4))\n",
    "\n",
    "for ind, col_name in enumerate(numeric_features):\n",
    "    feature = survey_data[col_name]\n",
    "    axis = axes[ind]\n",
    "    feature.hist(bins=100, ax = axis)\n",
    "    axis.axvline(feature.mean(), color='magenta', linestyle='dashed', linewidth=2)\n",
    "    axis.axvline(feature.median(), color='cyan', linestyle='dashed', linewidth=2)\n",
    "    axis.set_title(col_name)"
   ]
  },
  {
   "cell_type": "markdown",
   "metadata": {
    "slideshow": {
     "slide_type": "slide"
    }
   },
   "source": [
    "## Measuring correlations"
   ]
  },
  {
   "cell_type": "code",
   "execution_count": null,
   "metadata": {},
   "outputs": [],
   "source": [
    "fig, axes = plt.subplots(nrows=1, ncols=len(numeric_features), figsize=(12, 4), sharey=True)\n",
    "\n",
    "for ind, feature in enumerate(numeric_features):\n",
    "    label_data = survey_data[label]\n",
    "    feature_data = survey_data[feature]\n",
    "    correlation = feature_data.corr(label_data)\n",
    "    axis = axes[ind]\n",
    "    axis.scatter(x=feature_data, y=label_data)\n",
    "    axis.set_xlabel(feature)\n",
    "    axis.set_ylabel(label)\n",
    "    axis.set_title(f'{label} vs {feature}\\n Correlation: {correlation}')"
   ]
  },
  {
   "cell_type": "markdown",
   "metadata": {
    "slideshow": {
     "slide_type": "slide"
    }
   },
   "source": [
    "# Building a model"
   ]
  },
  {
   "cell_type": "markdown",
   "metadata": {
    "slideshow": {
     "slide_type": "slide"
    }
   },
   "source": [
    "## Separating test and train data"
   ]
  },
  {
   "cell_type": "code",
   "execution_count": null,
   "metadata": {},
   "outputs": [],
   "source": [
    "# Separate features and labels\n",
    "X = survey_data[numeric_features].values\n",
    "y = survey_data[label].values\n",
    "print('Features:', X[:5], '\\nLabels:', y[:5], sep='\\n')"
   ]
  },
  {
   "cell_type": "code",
   "execution_count": null,
   "metadata": {
    "slideshow": {
     "slide_type": "fragment"
    }
   },
   "outputs": [],
   "source": [
    "from sklearn.model_selection import train_test_split\n",
    "\n",
    "# Split data 70%-30% into training set and test set\n",
    "X_train, X_test, y_train, y_test = train_test_split(X, y, test_size=0.3, random_state=0)\n",
    "\n",
    "print(f'Training Set: {X_train.shape[0]} rows\\n    Test Set: {X_test.shape[0]} rows')"
   ]
  },
  {
   "cell_type": "markdown",
   "metadata": {
    "slideshow": {
     "slide_type": "slide"
    }
   },
   "source": [
    "## Training the model"
   ]
  },
  {
   "cell_type": "code",
   "execution_count": null,
   "metadata": {},
   "outputs": [],
   "source": [
    "from sklearn.linear_model import LinearRegression\n",
    "\n",
    "model = LinearRegression().fit(X_train, y_train)\n",
    "\n",
    "print(model.coef_)\n",
    "print(model.intercept_)"
   ]
  },
  {
   "cell_type": "markdown",
   "metadata": {
    "slideshow": {
     "slide_type": "slide"
    }
   },
   "source": [
    "## Evaluating model on test data"
   ]
  },
  {
   "cell_type": "code",
   "execution_count": null,
   "metadata": {},
   "outputs": [],
   "source": [
    "import numpy as np\n",
    "\n",
    "predictions = model.predict(X_test)\n",
    "np.set_printoptions(suppress=True)\n",
    "\n",
    "print('Predicted labels: ', np.round(predictions)[:8])\n",
    "print('Actual labels   : ', y_test[:8])"
   ]
  },
  {
   "cell_type": "markdown",
   "metadata": {
    "slideshow": {
     "slide_type": "slide"
    }
   },
   "source": [
    "## Visualizing the predictions"
   ]
  },
  {
   "cell_type": "code",
   "execution_count": null,
   "metadata": {},
   "outputs": [],
   "source": [
    "plt.scatter(y_test, predictions)\n",
    "plt.xlabel(f'Actual {label}')\n",
    "plt.ylabel(f'Predicted {label}')\n",
    "\n",
    "# Overlay the regression line\n",
    "z = np.polyfit(y_test, predictions, 1)\n",
    "p = np.poly1d(z)\n",
    "plt.plot(y_test, p(y_test), color='magenta')"
   ]
  },
  {
   "cell_type": "markdown",
   "metadata": {
    "slideshow": {
     "slide_type": "slide"
    }
   },
   "source": [
    "## Calculating evaluation metrics"
   ]
  },
  {
   "cell_type": "code",
   "execution_count": null,
   "metadata": {},
   "outputs": [],
   "source": [
    "from sklearn.metrics import mean_squared_error, r2_score\n",
    "\n",
    "mse = mean_squared_error(y_test, predictions)\n",
    "print(\" MSE:\", mse)\n",
    "\n",
    "rmse = mean_squared_error(y_test, predictions, squared=False)\n",
    "print(\"RMSE:\", rmse)\n",
    "\n",
    "r2 = r2_score(y_test, predictions)\n",
    "print(\"  R2:\", r2)"
   ]
  },
  {
   "cell_type": "markdown",
   "metadata": {
    "slideshow": {
     "slide_type": "slide"
    }
   },
   "source": [
    "# Experimenting with more models\n",
    "\n",
    "* **Linear algorithms**: Besides the one already used (an Ordinary Least Squares algorithm), there are other variants such as Lasso and Ridge.\n",
    "* **Tree-based algorithms**: Algorithms that build a decision tree to reach a prediction.\n",
    "* **Ensemble algorithms**: Algorithms that combine the outputs of multiple base algorithms to improve generalizability.\n",
    "\n",
    "https://scikit-learn.org/stable/tutorial/machine_learning_map/index.html"
   ]
  },
  {
   "cell_type": "markdown",
   "metadata": {
    "slideshow": {
     "slide_type": "slide"
    }
   },
   "source": [
    "## Generalizing the evaluation process"
   ]
  },
  {
   "cell_type": "code",
   "execution_count": null,
   "metadata": {},
   "outputs": [],
   "source": [
    "eval_results = pd.DataFrame(columns=['Model', 'RMSE', 'R2'])\n",
    "\n",
    "def evaluate_model():\n",
    "    predictions = model.predict(X_test)\n",
    "    rmse = mean_squared_error(y_test, predictions, squared=False)\n",
    "    r2 = r2_score(y_test, predictions)\n",
    "    eval_results.loc[len(eval_results.index)] = [str(model), round(rmse, 4), round(r2, 4)]\n",
    "    print(eval_results)\n",
    "    # Plot predicted vs actual\n",
    "    plt.figure(figsize=(4, 3)) \n",
    "    plt.scatter(y_test, predictions)\n",
    "    plt.xlabel(f'Actual {label}')\n",
    "    plt.ylabel(f'Predicted {label}')\n",
    "    # Overlay the regression line\n",
    "    z = np.polyfit(y_test, predictions, 1)\n",
    "    p = np.poly1d(z)\n",
    "    plt.plot(y_test,p(y_test), color='magenta')\n",
    "    \n",
    "\n",
    "evaluate_model()  "
   ]
  },
  {
   "cell_type": "markdown",
   "metadata": {
    "slideshow": {
     "slide_type": "slide"
    }
   },
   "source": [
    "## Lasso (linear regression)\n",
    "\n",
    "[Lasso](https://scikit-learn.org/stable/modules/linear_model.html#lasso) works well when only a few features predict the label."
   ]
  },
  {
   "cell_type": "code",
   "execution_count": null,
   "metadata": {},
   "outputs": [],
   "source": [
    "from sklearn.linear_model import Lasso\n",
    "\n",
    "model = Lasso().fit(X_train, y_train)\n",
    "\n",
    "evaluate_model()"
   ]
  },
  {
   "cell_type": "markdown",
   "metadata": {
    "slideshow": {
     "slide_type": "slide"
    }
   },
   "source": [
    "## Decision tree\n",
    "\n",
    "[Decision trees](https://scikit-learn.org/stable/modules/tree.html) can be used for both regression and classification problems."
   ]
  },
  {
   "cell_type": "code",
   "execution_count": null,
   "metadata": {},
   "outputs": [],
   "source": [
    "from sklearn.tree import DecisionTreeRegressor\n",
    "from sklearn.tree import export_text, plot_tree\n",
    "\n",
    "model = DecisionTreeRegressor().fit(X_train, y_train)\n",
    "\n",
    "print(export_text(model))"
   ]
  },
  {
   "cell_type": "markdown",
   "metadata": {
    "slideshow": {
     "slide_type": "slide"
    }
   },
   "source": [
    "## Decision tree (visualization)"
   ]
  },
  {
   "cell_type": "code",
   "execution_count": null,
   "metadata": {},
   "outputs": [],
   "source": [
    "plot_tree(model)\n",
    "plt.show()"
   ]
  },
  {
   "cell_type": "markdown",
   "metadata": {
    "slideshow": {
     "slide_type": "slide"
    }
   },
   "source": [
    "## Decision tree (evaluation)"
   ]
  },
  {
   "cell_type": "code",
   "execution_count": null,
   "metadata": {},
   "outputs": [],
   "source": [
    "evaluate_model()"
   ]
  },
  {
   "cell_type": "markdown",
   "metadata": {
    "slideshow": {
     "slide_type": "slide"
    }
   },
   "source": [
    "## Random forest (ensemble)\n",
    "\n",
    "[Random forest](https://scikit-learn.org/stable/modules/ensemble.html#forests-of-randomized-trees) applies an averaging function to multiple Decision Tree models for a better overall model.\n"
   ]
  },
  {
   "cell_type": "code",
   "execution_count": null,
   "metadata": {},
   "outputs": [],
   "source": [
    "from sklearn.ensemble import RandomForestRegressor\n",
    "\n",
    "model = RandomForestRegressor().fit(X_train, y_train)\n",
    "\n",
    "evaluate_model()"
   ]
  },
  {
   "cell_type": "markdown",
   "metadata": {
    "slideshow": {
     "slide_type": "slide"
    }
   },
   "source": [
    "## Gradient tree boosting regressor\n",
    "\n",
    "[Gradient tree boosting](https://scikit-learn.org/stable/modules/ensemble.html#gradient-tree-boosting) iterates on tree models to find the best one."
   ]
  },
  {
   "cell_type": "code",
   "execution_count": null,
   "metadata": {},
   "outputs": [],
   "source": [
    "from sklearn.ensemble import GradientBoostingRegressor\n",
    "\n",
    "model = GradientBoostingRegressor().fit(X_train, y_train)\n",
    "\n",
    "evaluate_model()"
   ]
  },
  {
   "cell_type": "markdown",
   "metadata": {
    "slideshow": {
     "slide_type": "slide"
    }
   },
   "source": [
    "# Improving the model\n",
    "\n",
    "* Tuning hyperparameters\n",
    "* Incorporating categorical features\n",
    "\n",
    "https://learn.microsoft.com/en-us/training/modules/train-evaluate-regression-models/6-improve-models\n",
    "    "
   ]
  },
  {
   "cell_type": "markdown",
   "metadata": {
    "slideshow": {
     "slide_type": "slide"
    }
   },
   "source": [
    "## Tuning hyperparameters"
   ]
  },
  {
   "cell_type": "code",
   "execution_count": null,
   "metadata": {},
   "outputs": [],
   "source": [
    "from sklearn.model_selection import GridSearchCV\n",
    "from sklearn.metrics import make_scorer, r2_score\n",
    "\n",
    "# Use a Gradient Boosting algorithm\n",
    "alg = GradientBoostingRegressor()\n",
    "\n",
    "# Try these hyperparameter values\n",
    "params = {\n",
    " 'learning_rate': [0.1, 0.5, 1.0],\n",
    " 'n_estimators' : [50, 100, 150]\n",
    "}\n",
    "\n",
    "# Find the best hyperparameter combination to optimize the R2 metric\n",
    "score = make_scorer(r2_score)\n",
    "gridsearch = GridSearchCV(alg, params, scoring=score, cv=3, return_train_score=True)\n",
    "gridsearch.fit(X_train, y_train)\n",
    "print(\"Best parameter combination:\", gridsearch.best_params_, \"\\n\")\n",
    "\n",
    "# Get the best model\n",
    "model = gridsearch.best_estimator_\n",
    "print(model, \"\\n\")"
   ]
  },
  {
   "cell_type": "markdown",
   "metadata": {
    "slideshow": {
     "slide_type": "slide"
    }
   },
   "source": [
    "## Evaluating tuned model"
   ]
  },
  {
   "cell_type": "code",
   "execution_count": null,
   "metadata": {},
   "outputs": [],
   "source": [
    "evaluate_model()"
   ]
  },
  {
   "cell_type": "markdown",
   "metadata": {
    "slideshow": {
     "slide_type": "slide"
    }
   },
   "source": [
    "## Preparing categorical features"
   ]
  },
  {
   "cell_type": "code",
   "execution_count": null,
   "metadata": {},
   "outputs": [],
   "source": [
    "categorical_features = ['EdLevel', 'MainBranch', 'Country']\n",
    "\n",
    "for col_name in categorical_features:\n",
    "    survey_data = survey_data.dropna(subset = [col_name])  \n",
    "    \n",
    "fig, axes = plt.subplots(nrows=1, ncols=len(categorical_features), figsize=(12, 4))\n",
    "\n",
    "for ind, col_name in enumerate(categorical_features):\n",
    "    counts = survey_data[col_name].value_counts().sort_index()\n",
    "    axis = axes[ind]\n",
    "    counts.plot.bar(ax=axis, color='steelblue')\n",
    "    axis.set_title(col_name + ' counts')"
   ]
  },
  {
   "cell_type": "markdown",
   "metadata": {
    "slideshow": {
     "slide_type": "slide"
    }
   },
   "source": [
    "## Creating a pipeline with categorical features"
   ]
  },
  {
   "cell_type": "code",
   "execution_count": null,
   "metadata": {},
   "outputs": [],
   "source": [
    "from sklearn.compose import ColumnTransformer\n",
    "from sklearn.pipeline import Pipeline\n",
    "from sklearn.impute import SimpleImputer\n",
    "from sklearn.preprocessing import StandardScaler, OneHotEncoder\n",
    "\n",
    "# Separate features and labels\n",
    "X = survey_data[numeric_features + categorical_features].values\n",
    "y = survey_data[label].values\n",
    "X_train, X_test, y_train, y_test = train_test_split(X, y, test_size=0.30, random_state=0)\n",
    "\n",
    "# Define preprocessing for numeric columns (scale them)\n",
    "numeric_features_indices = [0, 1]\n",
    "numeric_transformer = Pipeline(steps=[\n",
    "    ('scaler', StandardScaler())])\n",
    "\n",
    "# Define preprocessing for categorical features (encode them)\n",
    "categorical_features_indices = [2, 3, 4]\n",
    "categorical_transformer = Pipeline(steps=[\n",
    "    ('onehot', OneHotEncoder(handle_unknown='ignore'))])\n",
    "\n",
    "# Combine preprocessing steps\n",
    "preprocessor = ColumnTransformer(\n",
    "    transformers=[\n",
    "        ('num', numeric_transformer, numeric_features_indices),\n",
    "        ('cat', categorical_transformer, categorical_features_indices)])\n",
    "\n",
    "# Create preprocessing and training pipeline\n",
    "pipeline = Pipeline(steps=[('preprocessor', preprocessor),\n",
    "                           ('regressor', model)])\n",
    "model = pipeline.fit(X_train, (y_train))"
   ]
  },
  {
   "cell_type": "markdown",
   "metadata": {
    "slideshow": {
     "slide_type": "slide"
    }
   },
   "source": [
    "## Evaluating model with categorical features"
   ]
  },
  {
   "cell_type": "code",
   "execution_count": null,
   "metadata": {},
   "outputs": [],
   "source": [
    "evaluate_model()"
   ]
  },
  {
   "cell_type": "markdown",
   "metadata": {
    "slideshow": {
     "slide_type": "slide"
    }
   },
   "source": [
    "## Storing the model"
   ]
  },
  {
   "cell_type": "code",
   "execution_count": null,
   "metadata": {},
   "outputs": [],
   "source": [
    "import joblib\n",
    "\n",
    "# Save the model as a pickle file\n",
    "filename = '../function/model_predict/model.pkl'\n",
    "joblib.dump(model, filename)"
   ]
  },
  {
   "cell_type": "markdown",
   "metadata": {
    "slideshow": {
     "slide_type": "slide"
    }
   },
   "source": [
    "## Using the stored model"
   ]
  },
  {
   "cell_type": "code",
   "execution_count": null,
   "metadata": {},
   "outputs": [],
   "source": [
    "# Load the model from the file\n",
    "loaded_model = joblib.load(filename)\n",
    "\n",
    "# Create a numpy array containing a new observation (for example tomorrow's seasonal and weather forecast information)\n",
    "X_new = np.array([[25, 15, 'Master’s degree (M.A., M.S., M.Eng., MBA, etc.)','I am a developer by profession', 'United States of America']])\n",
    "print(f'New sample: {X_new[0]}')\n",
    "\n",
    "# Use the model to predict tomorrow's rentals\n",
    "result = loaded_model.predict(X_new)\n",
    "print(f'Prediction: {np.round(result[0])}')"
   ]
  },
  {
   "cell_type": "markdown",
   "metadata": {
    "slideshow": {
     "slide_type": "slide"
    }
   },
   "source": [
    "# Turning the model into an HTTP API"
   ]
  },
  {
   "cell_type": "markdown",
   "metadata": {
    "slideshow": {
     "slide_type": "slide"
    }
   },
   "source": [
    "## HTTP API architecture"
   ]
  },
  {
   "cell_type": "markdown",
   "metadata": {},
   "source": [
    "\n",
    "![Diagram of client making HTTP GET call to Azure function](function_api.png)"
   ]
  },
  {
   "cell_type": "markdown",
   "metadata": {
    "slideshow": {
     "slide_type": "slide"
    }
   },
   "source": [
    "## Azure function code"
   ]
  },
  {
   "cell_type": "markdown",
   "metadata": {},
   "source": [
    "```python\n",
    "import os\n",
    "\n",
    "import azure.functions\n",
    "import fastapi\n",
    "import joblib\n",
    "import nest_asyncio\n",
    "import numpy\n",
    "\n",
    "app = fastapi.FastAPI()\n",
    "nest_asyncio.apply()\n",
    "model = joblib.load(f\"{os.path.dirname(os.path.realpath(__file__))}/model.pkl\")\n",
    "\n",
    "@app.get(\"/model_predict\")\n",
    "async def predict(years_coding: int, years_coding_pro: int, ed_level: str, dev_status: str, country: str):\n",
    "    X_new = numpy.array([[years_coding, years_coding_pro, ed_level, dev_status, country]])\n",
    "    result = model.predict(X_new)\n",
    "    return {\"salary\": round(result[0], 2)}\n",
    "\n",
    "async def main(\n",
    "    req: azure.functions.HttpRequest, context: azure.functions.Context\n",
    ") -> azure.functions.HttpResponse:\n",
    "    return azure.functions.AsgiMiddleware(app).handle(req, context)\n",
    "```"
   ]
  },
  {
   "cell_type": "markdown",
   "metadata": {
    "slideshow": {
     "slide_type": "slide"
    }
   },
   "source": [
    "## Deploying the function"
   ]
  },
  {
   "cell_type": "markdown",
   "metadata": {},
   "source": [
    "Many ways to deploy: [Azure Tools VS Code extension](https://marketplace.visualstudio.com/items?itemName=ms-vscode.vscode-node-azure-pack), [Azure CLI](https://learn.microsoft.com/en-us/cli/azure/?WT.mc_id=python-79071-pamelafox), [Azure Dev CLI](https://learn.microsoft.com/en-us/azure/developer/azure-developer-cli/overview?WT.mc_id=python-79071-pamelafox) (In public preview).\n",
    "\n",
    "Using the Azure Dev CLI:\n",
    "\n",
    "```shell\n",
    "% azd up\n",
    "```\n"
   ]
  },
  {
   "cell_type": "markdown",
   "metadata": {
    "slideshow": {
     "slide_type": "fragment"
    }
   },
   "source": [
    "```shell\n",
    "Provisioning Azure resources can take some time.\n",
    "You can view detailed progress in the Azure Portal:\n",
    "https://portal.azure.com/#blade/HubsExtension/DeploymentDetailsBlade/...\n",
    "\n",
    "Created Resource group: salary-model1-rg\n",
    "Created App Service plan: salary-model1-dtlpju3kmywzs-plan\n",
    "Created Log Analytics workspace: salary-model1-dtlpju3kmywzs-logworkspace\n",
    "Created Application Insights: salary-model1-dtlpju3kmywzs-appinsights\n",
    "Created Storage account: salarymodel1dtlpjstorage\n",
    "Created Web App: salary-model1-dtlpju3kmywzs-function-app\n",
    "\n",
    "Azure resource provisioning completed successfully\n",
    "\n",
    "Deployed service api\n",
    " - Endpoint: https://salary-model1-dtlpju3kmywzs-function-app.azurewebsites.net/\n",
    "\n",
    "View the resources created under the resource group salary-model1-rg in Azure Portal:\n",
    "https://portal.azure.com/#@/resource/subscriptions/32ea8a26-5b40-4838-b6cb-be5c89a57c16/resourceGroups/salary-model1-rg/overview\n",
    "```"
   ]
  },
  {
   "cell_type": "markdown",
   "metadata": {
    "slideshow": {
     "slide_type": "slide"
    }
   },
   "source": [
    "## Calling the HTTP API"
   ]
  },
  {
   "cell_type": "markdown",
   "metadata": {
    "slideshow": {
     "slide_type": "-"
    }
   },
   "source": [
    "Example API call:\n",
    "    \n",
    "[/model_predict?years_coding=25&years_coding_pro=15&ed_level=Master%E2%80%99s%20degree%20%28M.A.%2C%20M.S.%2C%20M.Eng.%2C%20MBA%2C%20etc.%29&dev_status=I%20am%20a%20developer%20by%20profession&\n",
    "country=United%20States%20of%20America](https://salary-model1-dtlpju3kmywzs-function-app.azurewebsites.net/model_predict?years_coding=25&years_coding_pro=15&ed_level=Master%E2%80%99s%20degree%20%28M.A.%2C%20M.S.%2C%20M.Eng.%2C%20MBA%2C%20etc.%29&dev_status=I%20am%20a%20developer%20by%20profession&country=United%20States%20of%20America)\n"
   ]
  },
  {
   "cell_type": "markdown",
   "metadata": {
    "slideshow": {
     "slide_type": "fragment"
    }
   },
   "source": [
    "Results:\n",
    "\n",
    "```\n",
    "{\"salary\":171993.74}\n",
    "```"
   ]
  },
  {
   "cell_type": "markdown",
   "metadata": {
    "slideshow": {
     "slide_type": "slide"
    }
   },
   "source": [
    "## Auto-generated documentation"
   ]
  },
  {
   "cell_type": "markdown",
   "metadata": {},
   "source": [
    "FastAPI auto-generates documentation based on the function signature.\n",
    "    \n",
    "* [/docs](https://salary-model1-dtlpju3kmywzs-function-app.azurewebsites.net/docs)\n",
    "* [/redoc](https://salary-model1-dtlpju3kmywzs-function-app.azurewebsites.net/redoc)\n",
    "\n",
    "![Screenshot of auto-generated docs](autodocs.png)"
   ]
  },
  {
   "cell_type": "markdown",
   "metadata": {
    "slideshow": {
     "slide_type": "slide"
    }
   },
   "source": [
    "## Handling categorical features better"
   ]
  },
  {
   "cell_type": "markdown",
   "metadata": {},
   "source": [
    "```python\n",
    "# import ...\n",
    "from . import categories\n",
    "\n",
    "app = fastapi.FastAPI()\n",
    "nest_asyncio.apply()\n",
    "model = joblib.load(f\"{os.path.dirname(os.path.realpath(__file__))}/model.pkl\")\n",
    "\n",
    "@app.get(\"/model_predict\")\n",
    "async def model_predict(\n",
    "    years_coding: int,\n",
    "    years_coding_pro: int,\n",
    "    ed_level: categories.EdLevel,\n",
    "    dev_status: categories.MainBranch,\n",
    "    country: categories.Country,\n",
    "):\n",
    "    X_new = numpy.array([[years_coding, years_coding_pro, ed_level.value, dev_status.value, country.value]])\n",
    "    result = model.predict(X_new)\n",
    "    return {\"salary\": round(result[0], 2)}\n",
    "\n",
    "async def main(\n",
    "    req: azure.functions.HttpRequest, context: azure.functions.Context\n",
    ") -> azure.functions.HttpResponse:\n",
    "    return azure.functions.AsgiMiddleware(app).handle(req, context)\n",
    "```\n"
   ]
  },
  {
   "cell_type": "markdown",
   "metadata": {
    "slideshow": {
     "slide_type": "slide"
    }
   },
   "source": [
    "## The category enums file"
   ]
  },
  {
   "cell_type": "markdown",
   "metadata": {},
   "source": [
    "```python\n",
    "from enum import Enum\n",
    "\n",
    "class EdLevel(str, Enum):\n",
    "    EDLEVEL_0 = \"Associate degree (A.A., A.S., etc.)\"\n",
    "    EDLEVEL_1 = \"Bachelor’s degree (B.A., B.S., B.Eng., etc.)\"\n",
    "    EDLEVEL_2 = \"Master’s degree (M.A., M.S., M.Eng., MBA, etc.)\"\n",
    "    EDLEVEL_3 = \"Other doctoral degree (Ph.D., Ed.D., etc.)\"\n",
    "    EDLEVEL_4 = \"Primary/elementary school\"\n",
    "    EDLEVEL_5 = \"Professional degree (JD, MD, etc.)\"\n",
    "    EDLEVEL_6 = \"Secondary school (e.g. American high school, German Realschule or Gymnasium, etc.)\"\n",
    "    EDLEVEL_7 = \"Some college/university study without earning a degree\"\n",
    "    EDLEVEL_8 = \"Something else\"\n",
    "\n",
    "class MainBranch(str, Enum):\n",
    "    MAINBRANCH_0 = \"I am a developer by profession\"\n",
    "    MAINBRANCH_1 = \"I am not primarily a developer, but I write code sometimes as part of my work\"\n",
    "\n",
    "class Country(str, Enum):\n",
    "    COUNTRY_0 = \"Afghanistan\"\n",
    "    COUNTRY_1 = \"Albania\"\n",
    "    COUNTRY_2 = \"Algeria\"\n",
    "    ...\n",
    "```"
   ]
  },
  {
   "cell_type": "markdown",
   "metadata": {
    "slideshow": {
     "slide_type": "slide"
    }
   },
   "source": [
    "## Generating the category enums"
   ]
  },
  {
   "cell_type": "code",
   "execution_count": null,
   "metadata": {
    "slideshow": {
     "slide_type": "-"
    }
   },
   "outputs": [],
   "source": [
    "enums_lines = []\n",
    "\n",
    "for feature in categorical_features:\n",
    "    enums_lines.append(f'class {feature}(str, Enum):')\n",
    "    for ind, value in enumerate(sorted(survey_data[feature].unique())):\n",
    "        enum_name = f'{feature.upper()}_{ind}'\n",
    "        enums_lines.append(f'    {enum_name} = \"{value}\"')\n",
    "    enums_lines.append('\\n')\n",
    "\n",
    "enums_module = 'from enum import Enum\\n\\n'  + '\\n'.join(enums_lines)\n",
    "f = open(\"../function/model_predict/categories.py\", \"w\")\n",
    "f.write(enums_module)\n",
    "f.close()"
   ]
  },
  {
   "cell_type": "markdown",
   "metadata": {
    "slideshow": {
     "slide_type": "slide"
    }
   },
   "source": [
    "## Re-deploying the function"
   ]
  },
  {
   "cell_type": "markdown",
   "metadata": {},
   "source": [
    "Since the only change is code, I can just run:\n",
    "    \n",
    "```shell\n",
    "% azd deploy\n",
    "```"
   ]
  },
  {
   "cell_type": "markdown",
   "metadata": {
    "slideshow": {
     "slide_type": "fragment"
    }
   },
   "source": [
    "```shell\n",
    "Deploying service api...\n",
    "Deployed service api\n",
    " - Endpoint: https://salary-model1-dtlpju3kmywzs-function-app.azurewebsites.net/\n",
    "```"
   ]
  },
  {
   "cell_type": "markdown",
   "metadata": {
    "slideshow": {
     "slide_type": "slide"
    }
   },
   "source": [
    "## Auto-generated documentation for category enums"
   ]
  },
  {
   "cell_type": "markdown",
   "metadata": {},
   "source": [
    "The categories in the [docs](https://salary-model2-sibqf23ha7ib2-function-app.azurewebsites.net/docs) are now dropdowns with all available options.\n",
    "\n",
    "![Screenshot of auto-generated docs](autodocs_withcats.png)"
   ]
  },
  {
   "cell_type": "markdown",
   "metadata": {
    "slideshow": {
     "slide_type": "slide"
    }
   },
   "source": [
    "# Next steps"
   ]
  },
  {
   "cell_type": "markdown",
   "metadata": {},
   "source": [
    "* If you haven't yet, go through [the tutorial on regression models](https://learn.microsoft.com/training/modules/train-evaluate-regression-models/?WT.mc_id=python-79071-pamelafox)\n",
    "* Check out [the code for this example](https://github.com/pamelafox/regression-model-azure-demo) and try deploying yourself \n",
    "* Learn more about creating Azure functions in Python with the [Azure CLI](https://learn.microsoft.com/azure/azure-functions/create-first-function-cli-python?tabs=azure-cli%2Cbash&pivots=python-mode-configuration&WT.mc_id=python-79071-pamelafox) or [VS Code](https://learn.microsoft.com/azure/azure-functions/create-first-function-vs-code-python?pivots=python-mode-configuration&WT.mc_id=python-79071-pamelafox)\n",
    "* Learn about more ways to [host Python on Azure](https://learn.microsoft.com/azure/developer/python/quickstarts-app-hosting?WT.mc_id=python-79071-pamelafox)\n",
    "* Learn about the [Azure ML SDKs](https://learn.microsoft.com/python/api/overview/azure/ml/?view=azure-ml-py&WT.mc_id=python-79071-pamelafox)\n",
    "* Attend the next talk in this series!\n"
   ]
  },
  {
   "cell_type": "code",
   "execution_count": null,
   "metadata": {
    "slideshow": {
     "slide_type": "skip"
    }
   },
   "outputs": [],
   "source": []
  }
 ],
 "metadata": {
  "celltoolbar": "Slideshow",
  "kernelspec": {
   "display_name": "Python 3 (ipykernel)",
   "language": "python",
   "name": "python3"
  },
  "language_info": {
   "codemirror_mode": {
    "name": "ipython",
    "version": 3
   },
   "file_extension": ".py",
   "mimetype": "text/x-python",
   "name": "python",
   "nbconvert_exporter": "python",
   "pygments_lexer": "ipython3",
   "version": "3.9.13"
  },
  "rise": {
   "center": false,
   "theme": "simple",
   "transition": "none"
  },
  "vscode": {
   "interpreter": {
    "hash": "767d51c1340bd893661ea55ea3124f6de3c7a262a8b4abca0554b478b1e2ff90"
   }
  }
 },
 "nbformat": 4,
 "nbformat_minor": 2
}
